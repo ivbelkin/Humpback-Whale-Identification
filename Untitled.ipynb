{
 "cells": [
  {
   "cell_type": "code",
   "execution_count": 1,
   "metadata": {},
   "outputs": [],
   "source": [
    "%load_ext autoreload\n",
    "%autoreload 2"
   ]
  },
  {
   "cell_type": "code",
   "execution_count": 2,
   "metadata": {},
   "outputs": [],
   "source": [
    "from pathlib import Path\n",
    "from data import *"
   ]
  },
  {
   "cell_type": "code",
   "execution_count": 3,
   "metadata": {},
   "outputs": [],
   "source": [
    "TRAIN_FOLDER = \"/home/ivb/nvme/data/raw/train\"\n",
    "TRAIN_CSV = \"/home/ivb/nvme/data/train.csv\""
   ]
  },
  {
   "cell_type": "code",
   "execution_count": 4,
   "metadata": {},
   "outputs": [
    {
     "name": "stdout",
     "output_type": "stream",
     "text": [
      "WARNING: dummy 'parse_train_csv'\n",
      "WARNING: dummy 'SiameseSampler'\n",
      "WARNING: dummy 'SiameseDataSource.prepare_transforms'\n",
      "Train samples: 24368\n",
      "Train batches: 3046\n",
      "WARNING: dummy 'SiameseSampler'\n",
      "WARNING: dummy 'SiameseDataSource.prepare_transforms'\n",
      "Valid samples: 1000\n",
      "Valid batches: 125\n"
     ]
    }
   ],
   "source": [
    "loaders = SiameseDataSource.prepare_loaders(\n",
    "    mode=\"train\",\n",
    "    n_workers=0,\n",
    "    batch_size=8,\n",
    "    train_folder=TRAIN_FOLDER,\n",
    "    train_csv=TRAIN_CSV\n",
    ")"
   ]
  },
  {
   "cell_type": "code",
   "execution_count": 5,
   "metadata": {},
   "outputs": [
    {
     "data": {
      "text/plain": [
       "odict_keys(['train', 'valid'])"
      ]
     },
     "execution_count": 5,
     "metadata": {},
     "output_type": "execute_result"
    }
   ],
   "source": [
    "loaders.keys()"
   ]
  },
  {
   "cell_type": "code",
   "execution_count": 6,
   "metadata": {},
   "outputs": [
    {
     "name": "stdout",
     "output_type": "stream",
     "text": [
      "dict_keys(['Image0', 'Id0', 'Image1', 'Id1'])\n",
      "dict_keys(['Image0', 'Id0', 'Image1', 'Id1'])\n",
      "dict_keys(['Image0', 'Id0', 'Image1', 'Id1'])\n",
      "dict_keys(['Image0', 'Id0', 'Image1', 'Id1'])\n",
      "dict_keys(['Image0', 'Id0', 'Image1', 'Id1'])\n",
      "dict_keys(['Image0', 'Id0', 'Image1', 'Id1'])\n",
      "dict_keys(['Image0', 'Id0', 'Image1', 'Id1'])\n",
      "dict_keys(['Image0', 'Id0', 'Image1', 'Id1'])\n"
     ]
    }
   ],
   "source": [
    "for batch in loaders[\"train\"]:\n",
    "    break"
   ]
  },
  {
   "cell_type": "code",
   "execution_count": 57,
   "metadata": {},
   "outputs": [
    {
     "data": {
      "text/plain": [
       "numpy.ndarray"
      ]
     },
     "execution_count": 57,
     "metadata": {},
     "output_type": "execute_result"
    }
   ],
   "source": [
    "type(loaders[\"train\"].dataset.data)"
   ]
  },
  {
   "cell_type": "code",
   "execution_count": 60,
   "metadata": {},
   "outputs": [],
   "source": [
    "mrr = MergeRowsReader()"
   ]
  },
  {
   "cell_type": "code",
   "execution_count": 61,
   "metadata": {},
   "outputs": [
    {
     "data": {
      "text/plain": [
       "{'image0': 1, 'target0': 2, 'image1': 3, 'target1': 4}"
      ]
     },
     "execution_count": 61,
     "metadata": {},
     "output_type": "execute_result"
    }
   ],
   "source": [
    "mrr([{\"image\": 1, \"target\": 2}, {\"image\": 3, \"target\": 4}])"
   ]
  },
  {
   "cell_type": "code",
   "execution_count": 75,
   "metadata": {},
   "outputs": [
    {
     "name": "stdout",
     "output_type": "stream",
     "text": [
      "test\n",
      "train\n"
     ]
    }
   ],
   "source": [
    "!ls {TRAIN_FOLDER} | head -n 3"
   ]
  },
  {
   "cell_type": "code",
   "execution_count": null,
   "metadata": {},
   "outputs": [],
   "source": []
  }
 ],
 "metadata": {
  "kernelspec": {
   "display_name": "Python 3",
   "language": "python",
   "name": "python3"
  },
  "language_info": {
   "codemirror_mode": {
    "name": "ipython",
    "version": 3
   },
   "file_extension": ".py",
   "mimetype": "text/x-python",
   "name": "python",
   "nbconvert_exporter": "python",
   "pygments_lexer": "ipython3",
   "version": "3.6.7"
  }
 },
 "nbformat": 4,
 "nbformat_minor": 2
}
