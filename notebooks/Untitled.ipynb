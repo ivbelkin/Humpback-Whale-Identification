{
 "cells": [
  {
   "cell_type": "code",
   "execution_count": 1,
   "metadata": {},
   "outputs": [],
   "source": [
    "%load_ext autoreload\n",
    "%autoreload 2\n",
    "%matplotlib inline"
   ]
  },
  {
   "cell_type": "code",
   "execution_count": 2,
   "metadata": {},
   "outputs": [],
   "source": [
    "import matplotlib.pyplot as plt\n",
    "import torch\n",
    "import torch.nn as nn\n",
    "\n",
    "from siamese.data import SiameseDataSource\n",
    "from siamese.model import (\n",
    "    resnet_baseline, ModelRunner, LossCallback)\n",
    "\n",
    "import collections\n",
    "from catalyst.dl.callbacks import (\n",
    "    Logger, TensorboardLogger, MetricCallback, LRFinder,\n",
    "    OptimizerCallback, SchedulerCallback, CheckpointCallback, OneCycleLR)\n",
    "from sklearn import metrics"
   ]
  },
  {
   "cell_type": "code",
   "execution_count": 3,
   "metadata": {},
   "outputs": [
    {
     "data": {
      "text/plain": [
       "False"
      ]
     },
     "execution_count": 3,
     "metadata": {},
     "output_type": "execute_result"
    }
   ],
   "source": [
    "torch.cuda.is_available()"
   ]
  },
  {
   "cell_type": "code",
   "execution_count": 3,
   "metadata": {},
   "outputs": [],
   "source": [
    "TRAIN_FOLDER = \"/home/ivb/nvme/data/raw/train\"\n",
    "TRAIN_CSV = \"/home/ivb/nvme/data/train.csv\"\n",
    "\n",
    "INFER_FOLDER = \"/home/ivb/nvme/data/raw/test\""
   ]
  },
  {
   "cell_type": "code",
   "execution_count": 4,
   "metadata": {},
   "outputs": [
    {
     "name": "stdout",
     "output_type": "stream",
     "text": [
      "train samples: 11264\n",
      "train batches: 22\n",
      "valid samples: 2560\n",
      "valid batches: 5\n"
     ]
    }
   ],
   "source": [
    "loaders = SiameseDataSource.prepare_loaders(\n",
    "    mode=\"train\",\n",
    "    n_workers=8,\n",
    "    batch_size=512,\n",
    "    train_folder=TRAIN_FOLDER,\n",
    "    train_csv=TRAIN_CSV,\n",
    "    train_folds=[1, 2, 3, 4], \n",
    "    valid_folds=[5],\n",
    "    #infer_folder=INFER_FOLDER,\n",
    ")"
   ]
  },
  {
   "cell_type": "code",
   "execution_count": 5,
   "metadata": {},
   "outputs": [],
   "source": [
    "model = resnet_baseline(resnet=dict(arch=\"resnet18\", pooling=\"GlobalAvgPool2d\"))\n",
    "criterion = nn.BCEWithLogitsLoss()\n",
    "optimizer = torch.optim.Adam(model.parameters(), lr=1e-7, weight_decay=0.0005)\n",
    "scheduler = torch.optim.lr_scheduler.ReduceLROnPlateau(optimizer, factor=0.5, patience=2, verbose=True)"
   ]
  },
  {
   "cell_type": "code",
   "execution_count": 6,
   "metadata": {},
   "outputs": [],
   "source": [
    "# the only tricky part\n",
    "n_epochs = 1000\n",
    "logdir = \"../siamese/logs\"\n",
    "\n",
    "callbacks = collections.OrderedDict()\n",
    "\n",
    "callbacks[\"loss\"] = LossCallback()\n",
    "callbacks[\"optimizer\"] = OptimizerCallback()\n",
    "\n",
    "# OneCylce custom scheduler callback\n",
    "#callbacks[\"scheduler\"] = OneCycleLR(\n",
    "#     cycle_len=20,\n",
    "#     div=3, cut_div=4, momentum_range=(0.95, 0.85))\n",
    "callbacks[\"scheduler\"] = LRFinder(final_lr=10, n_steps=1000)\n",
    "\n",
    "# Pytorch scheduler callback\n",
    "callbacks[\"accuracy\"] = MetricCallback(\n",
    "    \"accuracy\", \n",
    "    metric_fn=lambda o, t: metrics.accuracy_score(t.view(-1).detach().cpu().numpy(), (o.view(-1).detach().cpu().numpy() > 0).astype(int) )\n",
    ")\n",
    "callbacks[\"saver\"] = CheckpointCallback()\n",
    "callbacks[\"logger\"] = Logger()\n",
    "callbacks[\"tflogger\"] = TensorboardLogger()"
   ]
  },
  {
   "cell_type": "code",
   "execution_count": 7,
   "metadata": {},
   "outputs": [],
   "source": [
    "runner = ModelRunner(\n",
    "    model=model, \n",
    "    criterion=criterion, \n",
    "    optimizer=optimizer, \n",
    "    scheduler=scheduler)"
   ]
  },
  {
   "cell_type": "code",
   "execution_count": null,
   "metadata": {},
   "outputs": [
    {
     "name": "stderr",
     "output_type": "stream",
     "text": [
      "0 * Epoch (train):   9% 2/22 [00:42<07:44, 23.22s/it, accuracy=0.49219, base/batch_time=15.99426, base/data_time=0.06129, base/sample_per_second=32.01148, loss=0.73329, lr=0.00000, momentum=0.90000]"
     ]
    }
   ],
   "source": [
    "runner.train(\n",
    "    loaders=loaders, \n",
    "    callbacks=callbacks, \n",
    "    logdir=logdir,\n",
    "    epochs=1000, verbose=True)"
   ]
  },
  {
   "cell_type": "code",
   "execution_count": null,
   "metadata": {},
   "outputs": [],
   "source": []
  }
 ],
 "metadata": {
  "kernelspec": {
   "display_name": "Python 3",
   "language": "python",
   "name": "python3"
  },
  "language_info": {
   "codemirror_mode": {
    "name": "ipython",
    "version": 3
   },
   "file_extension": ".py",
   "mimetype": "text/x-python",
   "name": "python",
   "nbconvert_exporter": "python",
   "pygments_lexer": "ipython3",
   "version": "3.6.7"
  }
 },
 "nbformat": 4,
 "nbformat_minor": 2
}
